{
 "cells": [
  {
   "cell_type": "code",
   "execution_count": 16,
   "metadata": {},
   "outputs": [
    {
     "name": "stdout",
     "output_type": "stream",
     "text": [
      "1\n",
      "2\n",
      "Fizz\n",
      "4\n",
      "Buzz\n",
      "Fizz\n",
      "7\n",
      "8\n",
      "Fizz\n",
      "Buzz\n",
      "11\n",
      "Fizz\n",
      "13\n",
      "14\n",
      "FizzBuzz\n"
     ]
    }
   ],
   "source": [
    "'''\n",
    "題目 : 3與5的倍數 >> FizzBuzz，只有3 >> Fizz，只有5 >> Buzz，都沒有 >> i\n",
    "範圍 : 0 < n < 2*10^5\n",
    "解題方向 : 含頭不含尾零要去除，轉換list時尾數+1，分別計算3與5的字詞再做輸出判斷\n",
    "'''\n",
    "\n",
    "def FizzBuzz(n) : \n",
    "    # 增加尾數\n",
    "    n = n + 1\n",
    "\n",
    "    # 從1開始計算\n",
    "    ran_n = list(range(1, n))\n",
    "\n",
    "    # 判斷範圍\n",
    "    if 0 < n < 2*10**5 : \n",
    "        for i in range(len(ran_n)): \n",
    "            # 計算3與5的餘數\n",
    "            fizz = ran_n[i] % 3\n",
    "            buzz = ran_n[i] % 5\n",
    "            # 判斷輸出哪項字詞\n",
    "            if fizz == 0 and buzz == 0:\n",
    "                print(\"FizzBuzz\")\n",
    "            elif fizz == 0 and buzz != 0 :\n",
    "                print(\"Fizz\")\n",
    "            elif buzz == 0 and fizz != 0:\n",
    "                print(\"Buzz\")\n",
    "            else : \n",
    "                print(ran_n[i])\n",
    "    else : \n",
    "        print(\"Error n\")\n",
    "        \n",
    "\n",
    "if __name__ == \"__main__\" : \n",
    "    n = int(input(\"enter num : \"))\n",
    "    FizzBuzz(n)\n"
   ]
  }
 ],
 "metadata": {
  "interpreter": {
   "hash": "b3ba2566441a7c06988d0923437866b63cedc61552a5af99d1f4fb67d367b25f"
  },
  "kernelspec": {
   "display_name": "Python 3.8.8 ('base')",
   "language": "python",
   "name": "python3"
  },
  "language_info": {
   "codemirror_mode": {
    "name": "ipython",
    "version": 3
   },
   "file_extension": ".py",
   "mimetype": "text/x-python",
   "name": "python",
   "nbconvert_exporter": "python",
   "pygments_lexer": "ipython3",
   "version": "3.8.8"
  },
  "orig_nbformat": 4
 },
 "nbformat": 4,
 "nbformat_minor": 2
}
